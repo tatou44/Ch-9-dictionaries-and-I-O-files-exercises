{
 "cells": [
  {
   "cell_type": "code",
   "execution_count": 71,
   "metadata": {},
   "outputs": [
    {
     "name": "stdout",
     "output_type": "stream",
     "text": [
      "[Task 1] :\n",
      "Students dictionary: {'Kim': [100, 80, 70, 60], 'Bill': [100, 90, 80, 60], 'Mary': [90, 80, 70, 100]}\n",
      "\n",
      "[Task 2]:\n",
      "Kim scores:  100 80 70 60\n",
      "Bill scores:  100 90 80 60\n",
      "Mary scores:  90 80 70 100\n",
      "\n",
      "[Task 3] :\n",
      "Mary has the maximum score of 340\n"
     ]
    }
   ],
   "source": [
    "# Lab 1: Dictionary Example 1.\n",
    "'''Given list value\n",
    "names = [ Kim, Bill, Mary]\n",
    "scores =[ [100,80,70,60],\n",
    "\t\t[100, 90, 80, 60],\n",
    "\t\t[90, 80,70, 100] ]'''\n",
    "\n",
    "# [Task 1] : Creating student dictionary to manage student scores.        \n",
    "print('[Task 1] :')\n",
    "def makeStudent(names, scores):\n",
    "\n",
    "    # make a list of key-value pairs tuples using zip() function:\n",
    "    list_keyval = list(zip(names, scores))\n",
    "\n",
    "    # Convert the list of tuples to a dictionary: \n",
    "    student = dict(list_keyval)\n",
    "\n",
    "    return student\n",
    "\n",
    "# usage:\n",
    "\n",
    "names = [ 'Kim', 'Bill', 'Mary']\n",
    "scores =[ [100,80,70,60],\n",
    "\t\t[100, 90, 80, 60],\n",
    "\t\t[90, 80,70, 100] ]\n",
    "\n",
    "# Calling the makeStudent() function by passing the list of names and the list of scores to make the student dictionary:\n",
    "student = makeStudent(names, scores)\n",
    "print('Students dictionary:', student)\n",
    "\n",
    "print()\n",
    "print('[Task 2]:')\n",
    "\n",
    "\n",
    "# [Task 2]: Print student's informations:\n",
    "def printStudent(student):\n",
    "    \n",
    "    for name, score in student.items():\n",
    "\n",
    "        #print('\\n', name, end=': ')\n",
    "        #for s in score:\n",
    "            #print(s, end=' ')\n",
    "\n",
    "        print(name, 'scores: ', *score)\n",
    "\n",
    "# Call the printStudent() function by passing student dictionary as a parameter:     \n",
    "printStudent(student) \n",
    "\n",
    "print()\n",
    "print('[Task 3] :')\n",
    "\n",
    "# [Task 3] : get maximum student's score:\n",
    "def getMaxScore(student):\n",
    "\n",
    "    Top_student_name = None\n",
    "    max_sum = float('-inf')\n",
    "\n",
    "    for name, scores in student.items():  # iterate over student dictionary items tuples (name, scores):\n",
    "        # Calculate score for each student name:\n",
    "        total_score = sum(scores)\n",
    "\n",
    "        if total_score > max_sum:\n",
    "            max_sum = total_score\n",
    "            Top_student_name = name\n",
    "\n",
    "    return f'{name} has the maximum score of {max_sum}'\n",
    " \n",
    "top_student = getMaxScore(student) \n",
    "print(top_student)\n",
    "   \n"
   ]
  },
  {
   "cell_type": "code",
   "execution_count": 77,
   "metadata": {},
   "outputs": [
    {
     "name": "stdout",
     "output_type": "stream",
     "text": [
      "The copied dictionary:\n",
      " {'name': 'Kelly', 'salary': 8000}\n"
     ]
    }
   ],
   "source": [
    "# Lab 2,make a copy of dictionary using subset of keys:\n",
    "def copyDict(d, keys): # takes original dictionary D, and list of keys K as parameters\n",
    "    \n",
    "    copied_dict = {}\n",
    "\n",
    "    for same_k in keys:\n",
    "\n",
    "        copied_dict[same_k] = d[same_k] # by using same key 'same_k' for both dictionary\n",
    "\n",
    "    return copied_dict\n",
    "    \n",
    "    '''Other option using dictionary comprehensive:\n",
    "    copied_dict = {same_k: d[same_k] for same_k in keys}'''\n",
    "# Arguments:\n",
    "emp_dict = {\n",
    "    \"name\": \"Kelly\",\n",
    "    \"age\": 25,\n",
    "    \"salary\": 8000,\n",
    "    \"city\": \"New york\"}\n",
    "keys = [\"name\", \"salary\"]\n",
    "\n",
    "# Calling the function:    \n",
    "copied_dictionary = copyDict(emp_dict, keys)\n",
    "print('The copied dictionary:\\n', copied_dictionary)"
   ]
  },
  {
   "cell_type": "code",
   "execution_count": 83,
   "metadata": {},
   "outputs": [
    {
     "name": "stdout",
     "output_type": "stream",
     "text": [
      "The deleted dicionary:\n",
      " {'age': 25, 'city': 'New york'} \n",
      "\n",
      "The original dictionary become:\n",
      " {'name': 'Kelly', 'salary': 8000}\n"
     ]
    }
   ],
   "source": [
    "# Lab 3, delete keys:\n",
    "def deleteDictItems(d, keys):\n",
    "\n",
    "    # Using dictionary comprehensive with pop() method:\n",
    "    deleted_dict = {key: d.pop(key, None) for key in keys}\n",
    "\n",
    "    return deleted_dict, d\n",
    "\n",
    "emp_dict = {\n",
    "    \"name\": \"Kelly\",\n",
    "    \"age\": 25,\n",
    "    \"salary\": 8000,\n",
    "    \"city\": \"New york\"}\n",
    "keys = [\"age\", \"city\"]\n",
    "\n",
    "deleted_dict, original_dict = deleteDictItems(emp_dict, keys)\n",
    "\n",
    "\n",
    "print('The deleted dicionary:\\n', deleted_dict, '\\n\\nThe original dictionary become:\\n', original_dict)    "
   ]
  },
  {
   "cell_type": "code",
   "execution_count": 88,
   "metadata": {},
   "outputs": [
    {
     "name": "stdout",
     "output_type": "stream",
     "text": [
      "{'name': 'Kelly', 'age': 25, 'salary': 8000, 'location': 'New york'}\n"
     ]
    }
   ],
   "source": [
    "# Lab 4, change keyval to new keyval name:\n",
    "def changeKey(org_dict, org_keyval, new_keyval):\n",
    "\n",
    "    for k, v in org_dict.items():\n",
    "\n",
    "        if k == org_keyval:\n",
    "            org_dict[new_keyval] = org_dict.pop(org_keyval, None)\n",
    "            break\n",
    "    return org_dict  \n",
    "\n",
    "emp_dict = {\n",
    "    \"name\": \"Kelly\",\n",
    "    \"age\": 25,\n",
    "    \"salary\": 8000,\n",
    "    \"city\": \"New york\"}\n",
    "org_keyval = 'city'\n",
    "new_keyval = 'location'\n",
    "\n",
    "changed_dict = changeKey(emp_dict, org_keyval, new_keyval)\n",
    "\n",
    "print(changed_dict)"
   ]
  },
  {
   "cell_type": "code",
   "execution_count": 90,
   "metadata": {},
   "outputs": [
    {
     "name": "stdout",
     "output_type": "stream",
     "text": [
      "{'name': 'KIM', 'ZIP': 94598, 'address': '1234 Grand ave', 'score': [100, 90], 'Grade': 'Senior'}\n"
     ]
    }
   ],
   "source": [
    "# Asterisk *, **:\n",
    "# Lab 5: using ** to merge dictionaries:\n",
    "\n",
    "def  mergeDict(dict1, dict2):\n",
    "    dict3 = {**dict1, **dict2}\n",
    "    return dict3\n",
    "\n",
    "dict1 = {'name': 'KIM', 'ZIP':94598, 'address':'1234 Grand ave'}\n",
    "dict2 = {'score':[100,90], 'Grade':'Senior'}\n",
    "dict3 = mergeDict(dict1, dict2)\n",
    "print(dict3)"
   ]
  },
  {
   "cell_type": "code",
   "execution_count": 16,
   "metadata": {},
   "outputs": [
    {
     "name": "stdout",
     "output_type": "stream",
     "text": [
      "# The DataFrame:\n",
      "           Name         ID  Math  English  Computer\n",
      "0     John Doe  2022-0002   100       90        90\n",
      "1     Jane Doe  2023-0001    70      100        90\n",
      "2   Mary Smith  2023-0002   100      100       100\n",
      "3  Bill Watson  2023-0003   100       75        85\n",
      "\n",
      "# List of the students dictionaries:\n",
      "[{'Name': 'John Doe', 'ID': '2022-0002', 'Math': 100, 'English': 90, 'Computer': 90}, {'Name': 'Jane Doe', 'ID': '2023-0001', 'Math': 70, 'English': 100, 'Computer': 90}, {'Name': 'Mary Smith', 'ID': '2023-0002', 'Math': 100, 'English': 100, 'Computer': 100}, {'Name': 'Bill Watson', 'ID': '2023-0003', 'Math': 100, 'English': 75, 'Computer': 85}]\n",
      "\n",
      "# Dictionarie values:\n",
      "Name: John Doe        ID: 2022-0002       Math: 100             English: 90              Computer: 90              \n",
      "Name: Jane Doe        ID: 2023-0001       Math: 70              English: 100             Computer: 90              \n",
      "Name: Mary Smith      ID: 2023-0002       Math: 100             English: 100             Computer: 100             \n",
      "Name: Bill Watson     ID: 2023-0003       Math: 100             English: 75              Computer: 85              \n",
      "\n",
      "# Scores of student with ID number 20230003 :\n",
      "[100, 75, 85]\n"
     ]
    }
   ],
   "source": [
    "# Lab 06, make list of students dictionaries from exel file:\n",
    "\n",
    "'''\n",
    "# The student dictionary:\n",
    "[{'name': 'John Doe', 'ID': '2022-0002', 'Math': 100, 'English': 90, 'Computer': 90}, \n",
    "{'name': 'Jane Doe', 'ID': '2023-0001', 'Math': 70, 'English': 100, 'Computer': 90}, \n",
    "{'name': 'Mary Smith', 'ID': '2023-0002', 'Math': 100, 'English': 100, 'Computer': 100}, \n",
    "{'name': 'Bill Watson', 'ID': '2023-0003', 'Math': 100, 'English': 75, 'Computer': 85}]\n",
    "\n",
    "\n",
    "print(df.columns) \t    # heading \n",
    "print(df.shape)\t\t# # of rows and columns\n",
    "print(df.shape[0])\t    # # of rows\n",
    "print(df.shape[1])\t    # # of columns\n",
    "\n",
    "print(df.iloc[0])\t    # the first row\n",
    "print(df['ID']) \t\t# column 'ID' values\n",
    "print(df['Computer'])\n",
    "'''\n",
    "def makeStudentDictionary():\n",
    "    import pandas as pd\n",
    "    \n",
    "    # Reading the exel file 'students.xlsx' and making the dataframe:\n",
    "    df = pd.read_excel('students.xlsx')\n",
    "    print('# The DataFrame:\\n', df)\n",
    "    print()\n",
    "    \n",
    "    # Extract the list of keys from the df:\n",
    "    keys = list(df.columns)\n",
    "    \n",
    "\n",
    "    # Extract the list of values from df:\n",
    "    values = [list(df.iloc[i]) for i in range(df.shape[0])]\n",
    "    \n",
    "    # Making dictionary using zip() function:\n",
    "    \n",
    "    list_dict = [dict(zip(keys, v)) for v in values]\n",
    "    \n",
    "    print('# List of the students dictionaries:')\n",
    "    return list_dict\n",
    "\n",
    "list_dictionaries = makeStudentDictionary()\n",
    "print(list_dictionaries)\n",
    "\n",
    "print()\n",
    "\n",
    "# Printing all the dictionary values:\n",
    "def printStudents(list_dictionaries):\n",
    "    for d in list_dictionaries:\n",
    "        \n",
    "        for k, v in d.items():\n",
    "           \n",
    "            print(f'{k}: {v:<15}', end=' ')\n",
    "        print()\n",
    "\n",
    "print('# Dictionarie values:')\n",
    "printStudents(list_dictionaries)\n",
    "\n",
    "print()\n",
    "\n",
    "# find student who has a given ID then return his list of scores:\n",
    "def findStudent(list_dictionaries, n):   # int is ID.\n",
    "\n",
    "    for d in list_dictionaries:\n",
    "        \n",
    "        student_id = int(d['ID'].replace('-', ''))\n",
    "        \n",
    "        if student_id == n:\n",
    "            return [d['Math'], d['English'], d['Computer']]\n",
    "\n",
    "n = 20230003\n",
    "list_score = findStudent(list_dictionaries, n)\n",
    "print('# Scores of student with ID number', n, ':')\n",
    "print(list_score)\n",
    "\n",
    "    "
   ]
  }
 ],
 "metadata": {
  "kernelspec": {
   "display_name": "Python 3.8.5 ('base')",
   "language": "python",
   "name": "python3"
  },
  "language_info": {
   "codemirror_mode": {
    "name": "ipython",
    "version": 3
   },
   "file_extension": ".py",
   "mimetype": "text/x-python",
   "name": "python",
   "nbconvert_exporter": "python",
   "pygments_lexer": "ipython3",
   "version": "3.8.5"
  },
  "orig_nbformat": 4,
  "vscode": {
   "interpreter": {
    "hash": "ad2bdc8ecc057115af97d19610ffacc2b4e99fae6737bb82f5d7fb13d2f2c186"
   }
  }
 },
 "nbformat": 4,
 "nbformat_minor": 2
}
