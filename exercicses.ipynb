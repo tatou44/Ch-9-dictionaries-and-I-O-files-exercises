{
 "cells": [
  {
   "cell_type": "code",
   "execution_count": 71,
   "metadata": {},
   "outputs": [
    {
     "name": "stdout",
     "output_type": "stream",
     "text": [
      "[Task 1] :\n",
      "Students dictionary: {'Kim': [100, 80, 70, 60], 'Bill': [100, 90, 80, 60], 'Mary': [90, 80, 70, 100]}\n",
      "\n",
      "[Task 2]:\n",
      "Kim scores:  100 80 70 60\n",
      "Bill scores:  100 90 80 60\n",
      "Mary scores:  90 80 70 100\n",
      "\n",
      "[Task 3] :\n",
      "Mary has the maximum score of 340\n"
     ]
    }
   ],
   "source": [
    "# Lab 1: Dictionary Example 1.\n",
    "'''Given list value\n",
    "names = [ Kim, Bill, Mary]\n",
    "scores =[ [100,80,70,60],\n",
    "\t\t[100, 90, 80, 60],\n",
    "\t\t[90, 80,70, 100] ]'''\n",
    "\n",
    "# [Task 1] : Creating student dictionary to manage student scores.        \n",
    "print('[Task 1] :')\n",
    "def makeStudent(names, scores):\n",
    "\n",
    "    # make a list of key-value pairs tuples using zip() function:\n",
    "    list_keyval = list(zip(names, scores))\n",
    "\n",
    "    # Convert the list of tuples to a dictionary: \n",
    "    student = dict(list_keyval)\n",
    "\n",
    "    return student\n",
    "\n",
    "# usage:\n",
    "\n",
    "names = [ 'Kim', 'Bill', 'Mary']\n",
    "scores =[ [100,80,70,60],\n",
    "\t\t[100, 90, 80, 60],\n",
    "\t\t[90, 80,70, 100] ]\n",
    "\n",
    "# Calling the makeStudent() function by passing the list of names and the list of scores to make the student dictionary:\n",
    "student = makeStudent(names, scores)\n",
    "print('Students dictionary:', student)\n",
    "\n",
    "print()\n",
    "print('[Task 2]:')\n",
    "\n",
    "\n",
    "# [Task 2]: Print student's informations:\n",
    "def printStudent(student):\n",
    "    \n",
    "    for name, score in student.items():\n",
    "\n",
    "        #print('\\n', name, end=': ')\n",
    "        #for s in score:\n",
    "            #print(s, end=' ')\n",
    "\n",
    "        print(name, 'scores: ', *score)\n",
    "\n",
    "# Call the printStudent() function by passing student dictionary as a parameter:     \n",
    "printStudent(student) \n",
    "\n",
    "print()\n",
    "print('[Task 3] :')\n",
    "\n",
    "# [Task 3] : get maximum student's score:\n",
    "def getMaxScore(student):\n",
    "\n",
    "    Top_student_name = None\n",
    "    max_sum = float('-inf')\n",
    "\n",
    "    for name, scores in student.items():  # iterate over student dictionary items tuples (name, scores):\n",
    "        # Calculate score for each student name:\n",
    "        total_score = sum(scores)\n",
    "\n",
    "        if total_score > max_sum:\n",
    "            max_sum = total_score\n",
    "            Top_student_name = name\n",
    "\n",
    "    return f'{name} has the maximum score of {max_sum}'\n",
    " \n",
    "top_student = getMaxScore(student) \n",
    "print(top_student)\n",
    "   \n"
   ]
  },
  {
   "cell_type": "code",
   "execution_count": 77,
   "metadata": {},
   "outputs": [
    {
     "name": "stdout",
     "output_type": "stream",
     "text": [
      "The copied dictionary:\n",
      " {'name': 'Kelly', 'salary': 8000}\n"
     ]
    }
   ],
   "source": [
    "# Lab 2,make a copy of dictionary using subset of keys:\n",
    "def copyDict(d, keys): # takes original dictionary D, and list of keys K as parameters\n",
    "    \n",
    "    copied_dict = {}\n",
    "\n",
    "    for same_k in keys:\n",
    "\n",
    "        copied_dict[same_k] = d[same_k] # by using same key 'same_k' for both dictionary\n",
    "\n",
    "    return copied_dict\n",
    "    \n",
    "    '''Other option using dictionary comprehensive:\n",
    "    copied_dict = {same_k: d[same_k] for same_k in keys}'''\n",
    "# Arguments:\n",
    "emp_dict = {\n",
    "    \"name\": \"Kelly\",\n",
    "    \"age\": 25,\n",
    "    \"salary\": 8000,\n",
    "    \"city\": \"New york\"}\n",
    "keys = [\"name\", \"salary\"]\n",
    "\n",
    "# Calling the function:    \n",
    "copied_dictionary = copyDict(emp_dict, keys)\n",
    "print('The copied dictionary:\\n', copied_dictionary)"
   ]
  },
  {
   "cell_type": "code",
   "execution_count": 83,
   "metadata": {},
   "outputs": [
    {
     "name": "stdout",
     "output_type": "stream",
     "text": [
      "The deleted dicionary:\n",
      " {'age': 25, 'city': 'New york'} \n",
      "\n",
      "The original dictionary become:\n",
      " {'name': 'Kelly', 'salary': 8000}\n"
     ]
    }
   ],
   "source": [
    "# Lab 3, delete keys:\n",
    "def deleteDictItems(d, keys):\n",
    "\n",
    "    # Using dictionary comprehensive with pop() method:\n",
    "    deleted_dict = {key: d.pop(key, None) for key in keys}\n",
    "\n",
    "    return deleted_dict, d\n",
    "\n",
    "emp_dict = {\n",
    "    \"name\": \"Kelly\",\n",
    "    \"age\": 25,\n",
    "    \"salary\": 8000,\n",
    "    \"city\": \"New york\"}\n",
    "keys = [\"age\", \"city\"]\n",
    "\n",
    "deleted_dict, original_dict = deleteDictItems(emp_dict, keys)\n",
    "\n",
    "\n",
    "print('The deleted dicionary:\\n', deleted_dict, '\\n\\nThe original dictionary become:\\n', original_dict)    "
   ]
  },
  {
   "cell_type": "code",
   "execution_count": 88,
   "metadata": {},
   "outputs": [
    {
     "name": "stdout",
     "output_type": "stream",
     "text": [
      "{'name': 'Kelly', 'age': 25, 'salary': 8000, 'location': 'New york'}\n"
     ]
    }
   ],
   "source": [
    "# Lab 4, change keyval to new keyval name:\n",
    "def changeKey(org_dict, org_keyval, new_keyval):\n",
    "\n",
    "    for k, v in org_dict.items():\n",
    "\n",
    "        if k == org_keyval:\n",
    "            org_dict[new_keyval] = org_dict.pop(org_keyval, None)\n",
    "            break\n",
    "    return org_dict  \n",
    "\n",
    "emp_dict = {\n",
    "    \"name\": \"Kelly\",\n",
    "    \"age\": 25,\n",
    "    \"salary\": 8000,\n",
    "    \"city\": \"New york\"}\n",
    "org_keyval = 'city'\n",
    "new_keyval = 'location'\n",
    "\n",
    "changed_dict = changeKey(emp_dict, org_keyval, new_keyval)\n",
    "\n",
    "print(changed_dict)"
   ]
  },
  {
   "cell_type": "code",
   "execution_count": 90,
   "metadata": {},
   "outputs": [
    {
     "name": "stdout",
     "output_type": "stream",
     "text": [
      "{'name': 'KIM', 'ZIP': 94598, 'address': '1234 Grand ave', 'score': [100, 90], 'Grade': 'Senior'}\n"
     ]
    }
   ],
   "source": [
    "# Asterisk *, **:\n",
    "# Lab 5: using ** to merge dictionaries:\n",
    "\n",
    "def  mergeDict(dict1, dict2):\n",
    "    dict3 = {**dict1, **dict2}\n",
    "    return dict3\n",
    "\n",
    "dict1 = {'name': 'KIM', 'ZIP':94598, 'address':'1234 Grand ave'}\n",
    "dict2 = {'score':[100,90], 'Grade':'Senior'}\n",
    "dict3 = mergeDict(dict1, dict2)\n",
    "print(dict3)"
   ]
  },
  {
   "cell_type": "code",
   "execution_count": 16,
   "metadata": {},
   "outputs": [
    {
     "name": "stdout",
     "output_type": "stream",
     "text": [
      "# The DataFrame:\n",
      "           Name         ID  Math  English  Computer\n",
      "0     John Doe  2022-0002   100       90        90\n",
      "1     Jane Doe  2023-0001    70      100        90\n",
      "2   Mary Smith  2023-0002   100      100       100\n",
      "3  Bill Watson  2023-0003   100       75        85\n",
      "\n",
      "# List of the students dictionaries:\n",
      "[{'Name': 'John Doe', 'ID': '2022-0002', 'Math': 100, 'English': 90, 'Computer': 90}, {'Name': 'Jane Doe', 'ID': '2023-0001', 'Math': 70, 'English': 100, 'Computer': 90}, {'Name': 'Mary Smith', 'ID': '2023-0002', 'Math': 100, 'English': 100, 'Computer': 100}, {'Name': 'Bill Watson', 'ID': '2023-0003', 'Math': 100, 'English': 75, 'Computer': 85}]\n",
      "\n",
      "# Dictionarie values:\n",
      "Name: John Doe        ID: 2022-0002       Math: 100             English: 90              Computer: 90              \n",
      "Name: Jane Doe        ID: 2023-0001       Math: 70              English: 100             Computer: 90              \n",
      "Name: Mary Smith      ID: 2023-0002       Math: 100             English: 100             Computer: 100             \n",
      "Name: Bill Watson     ID: 2023-0003       Math: 100             English: 75              Computer: 85              \n",
      "\n",
      "# Scores of student with ID number 20230003 :\n",
      "[100, 75, 85]\n"
     ]
    }
   ],
   "source": [
    "# Lab 06, make list of students dictionaries from exel file:\n",
    "\n",
    "'''\n",
    "# The student dictionary:\n",
    "[{'name': 'John Doe', 'ID': '2022-0002', 'Math': 100, 'English': 90, 'Computer': 90}, \n",
    "{'name': 'Jane Doe', 'ID': '2023-0001', 'Math': 70, 'English': 100, 'Computer': 90}, \n",
    "{'name': 'Mary Smith', 'ID': '2023-0002', 'Math': 100, 'English': 100, 'Computer': 100}, \n",
    "{'name': 'Bill Watson', 'ID': '2023-0003', 'Math': 100, 'English': 75, 'Computer': 85}]\n",
    "\n",
    "\n",
    "print(df.columns) \t    # heading \n",
    "print(df.shape)\t\t# # of rows and columns\n",
    "print(df.shape[0])\t    # # of rows\n",
    "print(df.shape[1])\t    # # of columns\n",
    "\n",
    "print(df.iloc[0])\t    # the first row\n",
    "print(df['ID']) \t\t# column 'ID' values\n",
    "print(df['Computer'])\n",
    "'''\n",
    "def makeStudentDictionary():\n",
    "    import pandas as pd\n",
    "    \n",
    "    # Reading the exel file 'students.xlsx' and making the dataframe:\n",
    "    df = pd.read_excel('students.xlsx')\n",
    "    print('# The DataFrame:\\n', df)\n",
    "    print()\n",
    "    \n",
    "    # Extract the list of keys from the df:\n",
    "    keys = list(df.columns)\n",
    "    \n",
    "\n",
    "    # Extract the list of values from df:\n",
    "    values = [list(df.iloc[i]) for i in range(df.shape[0])]\n",
    "    \n",
    "    # Making dictionary using zip() function:\n",
    "    \n",
    "    list_dict = [dict(zip(keys, v)) for v in values]\n",
    "    \n",
    "    print('# List of the students dictionaries:')\n",
    "    return list_dict\n",
    "\n",
    "list_dictionaries = makeStudentDictionary()\n",
    "print(list_dictionaries)\n",
    "\n",
    "print()\n",
    "\n",
    "# Printing all the dictionary values:\n",
    "def printStudents(list_dictionaries):\n",
    "    for d in list_dictionaries:\n",
    "        \n",
    "        for k, v in d.items():\n",
    "           \n",
    "            print(f'{k}: {v:<15}', end=' ')\n",
    "        print()\n",
    "\n",
    "print('# Dictionarie values:')\n",
    "printStudents(list_dictionaries)\n",
    "\n",
    "print()\n",
    "\n",
    "# find student who has a given ID then return his list of scores:\n",
    "def findStudent(list_dictionaries, n):   # int is ID.\n",
    "\n",
    "    for d in list_dictionaries:\n",
    "        \n",
    "        student_id = int(d['ID'].replace('-', ''))\n",
    "        \n",
    "        if student_id == n:\n",
    "            return [d['Math'], d['English'], d['Computer']]\n",
    "\n",
    "n = 20230003\n",
    "list_score = findStudent(list_dictionaries, n)\n",
    "print('# Scores of student with ID number', n, ':')\n",
    "print(list_score)\n",
    "\n",
    "    "
   ]
  },
  {
   "cell_type": "markdown",
   "metadata": {},
   "source": [
    "# ZIP FUNCTION:"
   ]
  },
  {
   "cell_type": "code",
   "execution_count": 22,
   "metadata": {},
   "outputs": [
    {
     "name": "stdout",
     "output_type": "stream",
     "text": [
      "[('Bill', 100), ('John', 90), ('Kurt', 90)]\n",
      "('Bill', 100)\n",
      "('John', 90)\n",
      "('Kurt', 90)\n"
     ]
    }
   ],
   "source": [
    "# Lab 7:\n",
    "\n",
    "# Making zip statment to print to print paired value with the zip object:\n",
    "students_names  = ['Bill', 'John', 'Kurt']  # iter 1\n",
    "score_values = [100, 90, 90]                # iter 2\n",
    "\n",
    "zipped_obj = zip(students_names, score_values)\n",
    "lst_val = list(zipped_obj)\n",
    "print(lst_val)\n",
    "\n",
    "for zipval in lst_val:\n",
    "    print(zipval)\n"
   ]
  },
  {
   "cell_type": "code",
   "execution_count": 23,
   "metadata": {},
   "outputs": [
    {
     "name": "stdout",
     "output_type": "stream",
     "text": [
      "[(1001, 'C Programming'), (1002, 'Java Programming'), (1003, 'Python Programming')]\n",
      "(1001, 'C Programming')\n",
      "(1002, 'Java Programming')\n",
      "(1003, 'Python Programming')\n"
     ]
    }
   ],
   "source": [
    "# Lab 8:\n",
    "\n",
    "course_ID =[ 1001, 1002, 1003]\n",
    "course_Name  = ['C Programming', 'Java Programming', 'Python Programming']\n",
    "\n",
    "zip_obj = zip(course_ID, course_Name)\n",
    "lst_zip = list(zip_obj)\n",
    "print(lst_zip)\n",
    "\n",
    "for pair in lst_zip:\n",
    "    print(pair)"
   ]
  },
  {
   "cell_type": "code",
   "execution_count": 41,
   "metadata": {},
   "outputs": [
    {
     "name": "stdout",
     "output_type": "stream",
     "text": [
      "[{'id': 10, 'name': 'Kim', 'address': '123 Main'}, {'id': 20, 'name': 'Bill', 'address': '345 Grand'}, {'id': 30, 'name': 'Mary', 'address': '123 Blvd'}]\n"
     ]
    }
   ],
   "source": [
    "# Lab 9 : zip to dictionary\n",
    "def makeDict(heading, valueset):\n",
    "    ziped = list(zip(heading, valueset[0]))\n",
    "    #print(ziped)\n",
    "    list_dict = []\n",
    "    for v in valueset:\n",
    "\n",
    "        ziped_dict = dict(zip(heading, v)) \n",
    "        list_dict.append(ziped_dict)\n",
    "\n",
    "    return list_dict   \n",
    "\n",
    "heading = ['id', 'name', 'address']\n",
    "valueset = [ [10, 'Kim', '123 Main'],\n",
    "               [20, 'Bill', '345 Grand'],\n",
    "               [30, 'Mary', '123 Blvd']\n",
    "]\n",
    "\n",
    "print(makeDict(heading, valueset))\n"
   ]
  },
  {
   "cell_type": "markdown",
   "metadata": {},
   "source": [
    "# * operator in zip ( ) to unzip\n",
    "\n",
    "\n"
   ]
  },
  {
   "cell_type": "code",
   "execution_count": 52,
   "metadata": {},
   "outputs": [
    {
     "name": "stdout",
     "output_type": "stream",
     "text": [
      "{10: 'Kurt', 20: 'Jim', 30: 'Bill'}\n",
      "dict_items([(10, 'Kurt'), (20, 'Jim'), (30, 'Bill')])\n",
      "[(10, 20, 30), ('Kurt', 'Jim', 'Bill')]\n",
      "i (10, 20, 30)\n",
      "n ('Kurt', 'Jim', 'Bill')\n",
      "(10, 20, 30)\n",
      "('Kurt', 'Jim', 'Bill')\n"
     ]
    }
   ],
   "source": [
    "# Lab 10: zip(*):\n",
    "\n",
    "\n",
    "dictionary1 = { 10:\"Kurt\", 20:\"Jim\", 30:\"Bill\"}\n",
    "print (dictionary1)\n",
    "\n",
    "print(dictionary1.items())\n",
    "unzipped = zip(*dictionary1.items())\n",
    "print(list(unzipped))\n",
    "\n",
    "#for values in unzipped:\n",
    "       #print (values)\n",
    "\n",
    "IDlist, Namelist = zip(*dictionary1.items())\n",
    "print ('i', IDlist)  # tuple\n",
    "print ('n', Namelist) # tuple\n",
    "\n",
    "print(IDlist)  # ?\n",
    "print(Namelist)\n",
    "\n"
   ]
  },
  {
   "cell_type": "code",
   "execution_count": 63,
   "metadata": {},
   "outputs": [
    {
     "name": "stdout",
     "output_type": "stream",
     "text": [
      "[[10, 40, 70, 100], [20, 50, 80, 110], [30, 60, 90, 120]]\n"
     ]
    }
   ],
   "source": [
    "# Lab 10: option 01\n",
    "def getColumn(numbers):\n",
    "    \n",
    "    columns = []\n",
    "\n",
    "    columns_tuples = list(zip(*numbers))\n",
    "\n",
    "    for c in columns_tuples:\n",
    "        columns.append(list(c))\n",
    "    return columns\n",
    "\n",
    "numbers = [ [10, 20, 30],\n",
    "\t\t[40, 50, 60],\n",
    "\t\t[70, 80, 90],\n",
    "\t\t[100, 110, 120] ] \n",
    "print(getColumn(numbers))           \n",
    "    "
   ]
  },
  {
   "cell_type": "code",
   "execution_count": 75,
   "metadata": {},
   "outputs": [
    {
     "name": "stdout",
     "output_type": "stream",
     "text": [
      "[[10, 40, 70, 100], [20, 50, 80, 110], [30, 60, 90, 120]]\n"
     ]
    }
   ],
   "source": [
    "# Lab 10: option 2\n",
    "def getColumn(numbers):\n",
    "    \n",
    "    list_tuplescolumns = list(zip(*numbers))  # list of tuples columns\n",
    "\n",
    "    list_listscolumns = list(map(list, list_tuplescolumns))    # using map and list functions to convert each tuple to list\n",
    "    \n",
    "    return list_listscolumns          #[list(c) for c in list_tuplescolumns]  # list of list columns\n",
    "\n",
    "numbers = [ [10, 20, 30],\n",
    "\t\t[40, 50, 60],\n",
    "\t\t[70, 80, 90],\n",
    "\t\t[100, 110, 120] ] \n",
    "print(getColumn(numbers))"
   ]
  },
  {
   "cell_type": "code",
   "execution_count": 72,
   "metadata": {},
   "outputs": [
    {
     "name": "stdout",
     "output_type": "stream",
     "text": [
      "[10, 20, 30] ['Kim', 'Jim', 'Sam']\n",
      "(10, 'Kim')\n",
      "(20, 'Jim')\n",
      "(30, 'Sam')\n"
     ]
    }
   ],
   "source": [
    "list1 = [ [10, 20, 30], ['Kim', 'Jim', 'Sam']]\n",
    "print(*list1)\n",
    "for value in zip(*list1):\n",
    "       print (value)"
   ]
  },
  {
   "cell_type": "markdown",
   "metadata": {},
   "source": [
    "## map:\n",
    "- map() is used to\n",
    "- apply a function on all elements of a specified iterable\n",
    "- return a map object\n",
    "- map(func, [...])\n",
    "\n"
   ]
  },
  {
   "cell_type": "code",
   "execution_count": 73,
   "metadata": {},
   "outputs": [
    {
     "name": "stdout",
     "output_type": "stream",
     "text": [
      "1 4 9 16 25 "
     ]
    }
   ],
   "source": [
    "# map and lambda:\n",
    "sqr = lambda val : val * val\n",
    "\n",
    "lst = [1,2,3,4,5]\n",
    "\n",
    "sqrmap = map(sqr, lst)   # apply the function lambda (sqr) to each element in the list 'lst'\n",
    "\n",
    "for v in sqrmap:       # iterate over the sqrmap object to fitch all the squared values of the list 'lst'\n",
    "\tprint (v, end=' ')\n"
   ]
  },
  {
   "cell_type": "code",
   "execution_count": 76,
   "metadata": {},
   "outputs": [
    {
     "name": "stdout",
     "output_type": "stream",
     "text": [
      "[['C', '+', '+'], ['P', 'y', 't', 'h', 'o', 'n'], ['J', 'a', 'v', 'a']]\n"
     ]
    }
   ],
   "source": [
    "list('sat')\n",
    "\n",
    "mylst = ['C++', 'Python', 'Java']\n",
    "\n",
    "mapobj = map(list, mylst)\n",
    "lst_mapobj = list(mapobj)\n",
    "print(lst_mapobj)"
   ]
  },
  {
   "cell_type": "code",
   "execution_count": 78,
   "metadata": {},
   "outputs": [
    {
     "name": "stdout",
     "output_type": "stream",
     "text": [
      "[5, 10, 15, 20, 25]\n"
     ]
    }
   ],
   "source": [
    "# Lab 12 : map\n",
    "def halfValue(numbers):\n",
    "\n",
    "    halflambda = lambda val: val // 2   # to divid every value\n",
    "\n",
    "    mapobj = map(halflambda, numbers)   # apply lambda to every value in list numbers\n",
    "    \n",
    "    list_mapobjc = list(mapobj)         # extract divided values in a list\n",
    "\n",
    "    return list_mapobjc\n",
    "\n",
    "\n",
    "\n",
    "\n",
    "numbers = [ 10, 20, 30, 40, 50] \n",
    "print(halfValue(numbers))   "
   ]
  },
  {
   "cell_type": "code",
   "execution_count": 81,
   "metadata": {},
   "outputs": [
    {
     "name": "stdout",
     "output_type": "stream",
     "text": [
      "[1, 0, 1, 0, 1, 1, 1]\n"
     ]
    }
   ],
   "source": [
    "# Lab 13 : map.\n",
    "def setOddNumber(numbers):\n",
    "\n",
    "    lambda_OddEven = lambda v: 0 if v % 2 == 0 else 1  # takes one value return 1 if value is odd, else rturn 0\n",
    "    \n",
    "    new_numbers = list(map(lambda_OddEven, numbers))   # aplying the lambda function using map for each number in numbers\n",
    "\n",
    "    return new_numbers\n",
    "\n",
    "mylist = [ 5, 10, 15, 20, 21, 25, 27]\n",
    "print(setOddNumber(mylist))\n"
   ]
  },
  {
   "cell_type": "markdown",
   "metadata": {},
   "source": [
    "# filter function:\n",
    "# Filter\n",
    "- creates a list of elements for which a function returns true. \n",
    "- return an filter object (iterator)"
   ]
  },
  {
   "cell_type": "code",
   "execution_count": 82,
   "metadata": {},
   "outputs": [
    {
     "name": "stdout",
     "output_type": "stream",
     "text": [
      "2\n",
      "4\n"
     ]
    }
   ],
   "source": [
    "def evenfilter(val):\n",
    "\treturn True if val % 2 == 0 else False\n",
    "\n",
    "lst = [1,2,3,4,5]\n",
    "\n",
    "filterobj = filter(evenfilter, lst)\n",
    "\n",
    "# lst = list(filterobj)\n",
    "for value in filterobj:\n",
    "\tprint (value)\n"
   ]
  },
  {
   "cell_type": "code",
   "execution_count": 9,
   "metadata": {},
   "outputs": [
    {
     "name": "stdout",
     "output_type": "stream",
     "text": [
      "[25, 55]\n"
     ]
    }
   ],
   "source": [
    "# Lab 14 : filter\n",
    "\n",
    "# Greater than the rigth:\n",
    "def gt_G_Right(numbers):\n",
    "\n",
    "    # Slicing list 'numbers':                         \n",
    "    l1 = numbers[:-1]          # [5, 10, 15, 25, 20, 55]      # ignoring the last number\n",
    "    l2 = numbers[1:]           #    [10, 15, 25, 20, 55, 40]  # ignoring the first number\n",
    "    \n",
    "    list_z_obj = list(zip(l1, l2))  # [(5, 10), (10, 15), (15, 25), (25, 20), (20, 55), (55, 40)]\n",
    "   \n",
    "    g_lambda = lambda x: x[0] > x[1]   # tuples with first element greater then the second element\n",
    "\n",
    "    filtered_tuples = filter(g_lambda, list_z_obj)  # filtered object of tuples \n",
    "\n",
    "    filtered_tuples = list(filtered_tuples)    # filterd list of tuples: [(25, 20), (55, 40)]\n",
    "\n",
    "                  \n",
    "    # Extract first element from the filtered list of tuples:\n",
    "    greater_rightNumbers = [value[0] for value in filtered_tuples]  \n",
    "\n",
    "    \n",
    "    return greater_rightNumbers\n",
    "\n",
    "mylist = [ 5, 10, 15, 25, 20, 55, 40]\n",
    "print(gt_G_Right(mylist))     # Expected output, # return this list [25, 55]\n",
    "                              "
   ]
  },
  {
   "cell_type": "code",
   "execution_count": 20,
   "metadata": {},
   "outputs": [
    {
     "name": "stdout",
     "output_type": "stream",
     "text": [
      "[10, 15, 25, 20, 55, 40]\n",
      "[5, 10, 15, 25, 20, 55]\n",
      "[(10, 5), (15, 10), (25, 15), (20, 25), (55, 20), (40, 55)]\n",
      "[(10, 5), (15, 10), (25, 15), (55, 20)]\n",
      "\n",
      "Result: [10, 15, 25, 55]\n"
     ]
    }
   ],
   "source": [
    "# Lab 15 : filter.\n",
    "\n",
    "# Greater then the left:\n",
    "def gtLeft(numbers):\n",
    "    l1 = numbers[1:]\n",
    "    l2 = numbers[:-1]\n",
    "    print(l1)\n",
    "    print(l2)\n",
    "\n",
    "    list_zp_obj = list(zip(l1, l2))\n",
    "    print(list_zp_obj)\n",
    "\n",
    "    grt_lambda = lambda x: x[0] > x[1]\n",
    "\n",
    "    list_filtered_object = list(filter(grt_lambda, list_zp_obj))\n",
    "    print(list_filtered_object)\n",
    "    \n",
    "    print()\n",
    "    result = [value[0] for value in list_filtered_object]\n",
    "    \n",
    "    return result\n",
    "\n",
    "\n",
    "mylist = [ 5, 10, 15, 25, 20, 55, 40]\n",
    "print('Result:', gtLeft(mylist))    "
   ]
  },
  {
   "cell_type": "markdown",
   "metadata": {},
   "source": [
    "# reduce:\n",
    "- Reduce\n",
    "- function for performing some computation on a iterable and \n",
    "- returns a single value\n"
   ]
  },
  {
   "cell_type": "code",
   "execution_count": 21,
   "metadata": {},
   "outputs": [
    {
     "name": "stdout",
     "output_type": "stream",
     "text": [
      "55\n"
     ]
    }
   ],
   "source": [
    "from functools import reduce\n",
    "\n",
    "lst = [1,2,3,4,5,6,7,8,9,10]\n",
    "# lst = [1,2,3,4, 5]\n",
    "\n",
    "lstsum = lambda x, y: x + y   # accumulation\n",
    "\n",
    "print (reduce(lstsum, lst))\n",
    "'''At first step, first two elements are calculated.\n",
    "Next, the result of the first step and the 3rd element are calculated\n",
    "And so on\n",
    "'''"
   ]
  },
  {
   "cell_type": "code",
   "execution_count": 25,
   "metadata": {},
   "outputs": [
    {
     "name": "stdout",
     "output_type": "stream",
     "text": [
      "[5, 50, 1000]\n",
      "\n"
     ]
    },
    {
     "data": {
      "text/plain": [
       "1055"
      ]
     },
     "execution_count": 25,
     "metadata": {},
     "output_type": "execute_result"
    }
   ],
   "source": [
    "# Lab 16:\n",
    "def getMaxSum(numbers):\n",
    "\n",
    "    maxlambda = lambda lst:max(lst)\n",
    "    lst_mp_max = list(map(maxlambda, numbers))  # list of the mximums number in each sublist \n",
    "    print(lst_mp_max)\n",
    "\n",
    "    # Computation the maximums:\n",
    "    lambdaComput = lambda x, y: x + y \n",
    "\n",
    "    from functools import reduce\n",
    "    reduced_list = reduce(lambdaComput, lst_mp_max)\n",
    "\n",
    "    return reduced_list\n",
    "   \n",
    "mylist = [[1, 2, 3, 4, 5],\n",
    "              [10, 20, 30, 40, 50],\n",
    "              [100, 200, 1000]\n",
    "              ]\n",
    "getMaxSum(mylist)"
   ]
  },
  {
   "cell_type": "code",
   "execution_count": 37,
   "metadata": {},
   "outputs": [
    {
     "name": "stdout",
     "output_type": "stream",
     "text": [
      "24\n"
     ]
    }
   ],
   "source": [
    "# Lab 17:\n",
    "def getAvg(numbers):\n",
    "\n",
    "    lbdsum = lambda x, y: x + y \n",
    "\n",
    "    from functools import reduce\n",
    "    r = reduce(lbdsum, numbers)\n",
    "\n",
    "    avg = r // len(numbers)\n",
    "    \n",
    "    return avg\n",
    "  \n",
    "mylist = [ 5, 10, 15, 25, 20, 55, 40]\n",
    "print(getAvg(mylist))"
   ]
  },
  {
   "cell_type": "markdown",
   "metadata": {},
   "source": [
    "# Reduce\n",
    "- Using operator"
   ]
  },
  {
   "cell_type": "code",
   "execution_count": 38,
   "metadata": {},
   "outputs": [
    {
     "name": "stdout",
     "output_type": "stream",
     "text": [
      "15\n",
      "120\n"
     ]
    }
   ],
   "source": [
    "from functools import reduce\n",
    "import operator\n",
    "\n",
    "mylist = [1,2,3,4,5]\n",
    "\n",
    "mysum = reduce(operator.add, mylist)\n",
    "print (mysum)\n",
    "\n",
    "productoflist = reduce(operator.mul, mylist)\n",
    "print (productoflist)\n"
   ]
  },
  {
   "cell_type": "markdown",
   "metadata": {},
   "source": [
    "# Assignments"
   ]
  },
  {
   "cell_type": "code",
   "execution_count": 39,
   "metadata": {},
   "outputs": [
    {
     "name": "stdout",
     "output_type": "stream",
     "text": [
      "# The DataFrame:\n",
      "           Name         ID  Math  English  Computer\n",
      "0     John Doe  2022-0002   100       90        90\n",
      "1     Jane Doe  2023-0001    70      100        90\n",
      "2   Mary Smith  2023-0002   100      100       100\n",
      "3  Bill Watson  2023-0003   100       75        85\n",
      "\n",
      "# List of the students dictionaries:\n",
      "[{'Name': 'John Doe', 'ID': '2022-0002', 'Math': 100, 'English': 90, 'Computer': 90}, {'Name': 'Jane Doe', 'ID': '2023-0001', 'Math': 70, 'English': 100, 'Computer': 90}, {'Name': 'Mary Smith', 'ID': '2023-0002', 'Math': 100, 'English': 100, 'Computer': 100}, {'Name': 'Bill Watson', 'ID': '2023-0003', 'Math': 100, 'English': 75, 'Computer': 85}]\n",
      "\n",
      "# Dictionarie values:\n",
      "Name: John Doe        ID: 2022-0002       Math: 100             English: 90              Computer: 90              \n",
      "Name: Jane Doe        ID: 2023-0001       Math: 70              English: 100             Computer: 90              \n",
      "Name: Mary Smith      ID: 2023-0002       Math: 100             English: 100             Computer: 100             \n",
      "Name: Bill Watson     ID: 2023-0003       Math: 100             English: 75              Computer: 85              \n",
      "\n",
      "# Scores of student with ID number 20230003 :\n",
      "[100, 75, 85]\n"
     ]
    }
   ],
   "source": [
    "# Making dictionaries from Xl file:\n",
    "def makeStudentDictionary():\n",
    "    import pandas as pd\n",
    "    \n",
    "    # Reading the exel file 'students.xlsx' and making the dataframe:\n",
    "    df = pd.read_excel('students.xlsx')\n",
    "    print('# The DataFrame:\\n', df)\n",
    "    print()\n",
    "    \n",
    "    # Extract the list of keys from the df:\n",
    "    keys = list(df.columns)\n",
    "    \n",
    "\n",
    "    # Extract the list of values from df:\n",
    "    values = [list(df.iloc[i]) for i in range(df.shape[0])]\n",
    "    \n",
    "    # Making dictionary using zip() function:\n",
    "    \n",
    "    list_dict = [dict(zip(keys, v)) for v in values]\n",
    "    \n",
    "    print('# List of the students dictionaries:')\n",
    "    return list_dict\n",
    "\n",
    "list_dictionaries = makeStudentDictionary()\n",
    "print(list_dictionaries)\n",
    "\n",
    "print()\n",
    "\n",
    "# Printing all the dictionary values:\n",
    "def printStudents(list_dictionaries):\n",
    "    for d in list_dictionaries:\n",
    "        \n",
    "        for k, v in d.items():\n",
    "           \n",
    "            print(f'{k}: {v:<15}', end=' ')\n",
    "        print()\n",
    "\n",
    "print('# Dictionarie values:')\n",
    "printStudents(list_dictionaries)\n",
    "\n",
    "print()\n",
    "\n",
    "# find student who has a given ID then return his list of scores:\n",
    "def findStudent(list_dictionaries, n):   # int is ID.\n",
    "\n",
    "    for d in list_dictionaries:\n",
    "        \n",
    "        student_id = int(d['ID'].replace('-', ''))\n",
    "        \n",
    "        if student_id == n:\n",
    "            return [d['Math'], d['English'], d['Computer']]\n",
    "\n",
    "n = 20230003\n",
    "list_score = findStudent(list_dictionaries, n)\n",
    "print('# Scores of student with ID number', n, ':')\n",
    "print(list_score)"
   ]
  }
 ],
 "metadata": {
  "kernelspec": {
   "display_name": "Python 3.8.5 ('base')",
   "language": "python",
   "name": "python3"
  },
  "language_info": {
   "codemirror_mode": {
    "name": "ipython",
    "version": 3
   },
   "file_extension": ".py",
   "mimetype": "text/x-python",
   "name": "python",
   "nbconvert_exporter": "python",
   "pygments_lexer": "ipython3",
   "version": "3.8.5"
  },
  "orig_nbformat": 4,
  "vscode": {
   "interpreter": {
    "hash": "ad2bdc8ecc057115af97d19610ffacc2b4e99fae6737bb82f5d7fb13d2f2c186"
   }
  }
 },
 "nbformat": 4,
 "nbformat_minor": 2
}
