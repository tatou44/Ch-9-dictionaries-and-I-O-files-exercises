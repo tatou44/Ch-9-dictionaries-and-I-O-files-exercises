{
 "cells": [
  {
   "cell_type": "code",
   "execution_count": 71,
   "metadata": {},
   "outputs": [
    {
     "name": "stdout",
     "output_type": "stream",
     "text": [
      "[Task 1] :\n",
      "Students dictionary: {'Kim': [100, 80, 70, 60], 'Bill': [100, 90, 80, 60], 'Mary': [90, 80, 70, 100]}\n",
      "\n",
      "[Task 2]:\n",
      "Kim scores:  100 80 70 60\n",
      "Bill scores:  100 90 80 60\n",
      "Mary scores:  90 80 70 100\n",
      "\n",
      "[Task 3] :\n",
      "Mary has the maximum score of 340\n"
     ]
    }
   ],
   "source": [
    "# Lab 1: Dictionary Example 1.\n",
    "'''Given list value\n",
    "names = [ Kim, Bill, Mary]\n",
    "scores =[ [100,80,70,60],\n",
    "\t\t[100, 90, 80, 60],\n",
    "\t\t[90, 80,70, 100] ]'''\n",
    "\n",
    "# [Task 1] : Creating student dictionary to manage student scores.        \n",
    "print('[Task 1] :')\n",
    "def makeStudent(names, scores):\n",
    "\n",
    "    # make a list of key-value pairs tuples using zip() function:\n",
    "    list_keyval = list(zip(names, scores))\n",
    "\n",
    "    # Convert the list of tuples to a dictionary: \n",
    "    student = dict(list_keyval)\n",
    "\n",
    "    return student\n",
    "\n",
    "# usage:\n",
    "\n",
    "names = [ 'Kim', 'Bill', 'Mary']\n",
    "scores =[ [100,80,70,60],\n",
    "\t\t[100, 90, 80, 60],\n",
    "\t\t[90, 80,70, 100] ]\n",
    "\n",
    "# Calling the makeStudent() function by passing the list of names and the list of scores to make the student dictionary:\n",
    "student = makeStudent(names, scores)\n",
    "print('Students dictionary:', student)\n",
    "\n",
    "print()\n",
    "print('[Task 2]:')\n",
    "\n",
    "\n",
    "# [Task 2]: Print student's informations:\n",
    "def printStudent(student):\n",
    "    \n",
    "    for name, score in student.items():\n",
    "\n",
    "        #print('\\n', name, end=': ')\n",
    "        #for s in score:\n",
    "            #print(s, end=' ')\n",
    "\n",
    "        print(name, 'scores: ', *score)\n",
    "\n",
    "# Call the printStudent() function by passing student dictionary as a parameter:     \n",
    "printStudent(student) \n",
    "\n",
    "print()\n",
    "print('[Task 3] :')\n",
    "\n",
    "# [Task 3] : get maximum student's score:\n",
    "def getMaxScore(student):\n",
    "\n",
    "    Top_student_name = None\n",
    "    max_sum = float('-inf')\n",
    "\n",
    "    for name, scores in student.items():  # iterate over student dictionary items tuples (name, scores):\n",
    "        # Calculate score for each student name:\n",
    "        total_score = sum(scores)\n",
    "\n",
    "        if total_score > max_sum:\n",
    "            max_sum = total_score\n",
    "            Top_student_name = name\n",
    "\n",
    "    return f'{name} has the maximum score of {max_sum}'\n",
    " \n",
    "top_student = getMaxScore(student) \n",
    "print(top_student)\n",
    "   \n"
   ]
  }
 ],
 "metadata": {
  "kernelspec": {
   "display_name": "Python 3.8.5 ('base')",
   "language": "python",
   "name": "python3"
  },
  "language_info": {
   "codemirror_mode": {
    "name": "ipython",
    "version": 3
   },
   "file_extension": ".py",
   "mimetype": "text/x-python",
   "name": "python",
   "nbconvert_exporter": "python",
   "pygments_lexer": "ipython3",
   "version": "3.8.5"
  },
  "orig_nbformat": 4,
  "vscode": {
   "interpreter": {
    "hash": "ad2bdc8ecc057115af97d19610ffacc2b4e99fae6737bb82f5d7fb13d2f2c186"
   }
  }
 },
 "nbformat": 4,
 "nbformat_minor": 2
}
